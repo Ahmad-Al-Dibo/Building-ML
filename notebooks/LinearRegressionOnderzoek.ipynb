{
 "cells": [
  {
   "cell_type": "code",
   "execution_count": 1,
   "id": "737988d6-b6a3-490f-9369-f2ccfb607d82",
   "metadata": {},
   "outputs": [],
   "source": [
    "from sklearn.preprocessing import MinMaxScaler\n",
    "import pandas as pd\n",
    "\n",
    "data = pd.DataFrame({\n",
    "    \"temperature\": [21.0, 22.5, 25.0],\n",
    "    \"label\": [0, 0, 1]\n",
    "})\n",
    "\n",
    "scaler = MinMaxScaler()\n",
    "data[\"temperature_scaled\"] = scaler.fit_transform(data[[\"temperature\"]])\n"
   ]
  },
  {
   "cell_type": "code",
   "execution_count": 10,
   "id": "b71cb96d-0e92-432d-9b78-ff8d8ed80bdc",
   "metadata": {},
   "outputs": [
    {
     "data": {
      "text/html": [
       "<div>\n",
       "<style scoped>\n",
       "    .dataframe tbody tr th:only-of-type {\n",
       "        vertical-align: middle;\n",
       "    }\n",
       "\n",
       "    .dataframe tbody tr th {\n",
       "        vertical-align: top;\n",
       "    }\n",
       "\n",
       "    .dataframe thead th {\n",
       "        text-align: right;\n",
       "    }\n",
       "</style>\n",
       "<table border=\"1\" class=\"dataframe\">\n",
       "  <thead>\n",
       "    <tr style=\"text-align: right;\">\n",
       "      <th></th>\n",
       "      <th>temperature</th>\n",
       "      <th>label</th>\n",
       "      <th>temperature_scaled</th>\n",
       "    </tr>\n",
       "  </thead>\n",
       "  <tbody>\n",
       "    <tr>\n",
       "      <th>0</th>\n",
       "      <td>21.0</td>\n",
       "      <td>0</td>\n",
       "      <td>0.000</td>\n",
       "    </tr>\n",
       "    <tr>\n",
       "      <th>1</th>\n",
       "      <td>22.5</td>\n",
       "      <td>0</td>\n",
       "      <td>0.375</td>\n",
       "    </tr>\n",
       "    <tr>\n",
       "      <th>2</th>\n",
       "      <td>25.0</td>\n",
       "      <td>1</td>\n",
       "      <td>1.000</td>\n",
       "    </tr>\n",
       "  </tbody>\n",
       "</table>\n",
       "</div>"
      ],
      "text/plain": [
       "   temperature  label  temperature_scaled\n",
       "0         21.0      0               0.000\n",
       "1         22.5      0               0.375\n",
       "2         25.0      1               1.000"
      ]
     },
     "execution_count": 10,
     "metadata": {},
     "output_type": "execute_result"
    }
   ],
   "source": [
    "temperature_scaled_d = data[\"temperature_scaled\"]\n",
    "\n",
    "data\n"
   ]
  },
  {
   "cell_type": "code",
   "execution_count": 20,
   "id": "34ea07b7-47fa-46bd-9429-e38d8207aff8",
   "metadata": {},
   "outputs": [],
   "source": [
    "import numpy as np\n",
    "w = np.random.randn()\n",
    "b = np.random.randn()"
   ]
  },
  {
   "cell_type": "code",
   "execution_count": 4,
   "id": "e4a77a96-f96b-4694-bfd1-0cb05cf362ed",
   "metadata": {},
   "outputs": [
    {
     "data": {
      "text/plain": [
       "0.6463727632410613"
      ]
     },
     "execution_count": 4,
     "metadata": {},
     "output_type": "execute_result"
    }
   ],
   "source": [
    "w"
   ]
  },
  {
   "cell_type": "code",
   "execution_count": 5,
   "id": "e7bc532c-4e75-493d-af6d-0cb690bbde7d",
   "metadata": {},
   "outputs": [
    {
     "data": {
      "text/plain": [
       "-0.26590950153309273"
      ]
     },
     "execution_count": 5,
     "metadata": {},
     "output_type": "execute_result"
    }
   ],
   "source": [
    "b"
   ]
  },
  {
   "cell_type": "code",
   "execution_count": 15,
   "id": "50ce8066-8de9-4b06-8144-35bfb815eaef",
   "metadata": {},
   "outputs": [],
   "source": [
    "x = sum(list(temperature_scaled_d))"
   ]
  },
  {
   "cell_type": "code",
   "execution_count": 21,
   "id": "dfbdb631-79d9-4ec1-82df-1d04d8886089",
   "metadata": {},
   "outputs": [
    {
     "data": {
      "text/plain": [
       "-0.3687827963988535"
      ]
     },
     "execution_count": 21,
     "metadata": {},
     "output_type": "execute_result"
    }
   ],
   "source": [
    "y = w*x+b\n",
    "y"
   ]
  },
  {
   "cell_type": "code",
   "execution_count": 23,
   "id": "be4a0e88-2d45-4f6b-ae1f-8e5b2b9467f1",
   "metadata": {},
   "outputs": [
    {
     "name": "stdout",
     "output_type": "stream",
     "text": [
      "[[19.52486881]]\n"
     ]
    }
   ],
   "source": [
    "from sklearn.preprocessing import MinMaxScaler\n",
    "import numpy as np\n",
    "\n",
    "# Suppose you have a scaled value:\n",
    "scaled_value = np.array([[y]])\n",
    "\n",
    "# Inverse transform back to original temperature\n",
    "original_value = scaler.inverse_transform(scaled_value)\n",
    "print(original_value)\n"
   ]
  },
  {
   "cell_type": "code",
   "execution_count": 19,
   "id": "a638f2df-725a-4a22-a5ae-cb677ad696d8",
   "metadata": {},
   "outputs": [
    {
     "data": {
      "text/plain": [
       "22.833333333333332"
      ]
     },
     "execution_count": 19,
     "metadata": {},
     "output_type": "execute_result"
    }
   ],
   "source": [
    "sum([21+22.5+25])/3"
   ]
  },
  {
   "cell_type": "code",
   "execution_count": 1,
   "id": "163e83d3-be32-435b-8c45-9c83571b344f",
   "metadata": {},
   "outputs": [],
   "source": [
    "dic = {\n",
    "    \"Name\": \"Erdem\"\n",
    "}"
   ]
  },
  {
   "cell_type": "code",
   "execution_count": 2,
   "id": "ab2ee23d-69ba-49a2-94d2-767d7d56f9ca",
   "metadata": {},
   "outputs": [
    {
     "data": {
      "text/plain": [
       "'Erdem'"
      ]
     },
     "execution_count": 2,
     "metadata": {},
     "output_type": "execute_result"
    }
   ],
   "source": [
    "dic.get(\"Name\")"
   ]
  }
 ],
 "metadata": {
  "kernelspec": {
   "display_name": "Python 3 (ipykernel)",
   "language": "python",
   "name": "python3"
  },
  "language_info": {
   "codemirror_mode": {
    "name": "ipython",
    "version": 3
   },
   "file_extension": ".py",
   "mimetype": "text/x-python",
   "name": "python",
   "nbconvert_exporter": "python",
   "pygments_lexer": "ipython3",
   "version": "3.13.9"
  }
 },
 "nbformat": 4,
 "nbformat_minor": 5
}
